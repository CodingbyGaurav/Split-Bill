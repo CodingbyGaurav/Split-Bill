{
 "cells": [
  {
   "cell_type": "code",
   "execution_count": null,
   "id": "eabb16be",
   "metadata": {},
   "outputs": [
    {
     "ename": "",
     "evalue": "",
     "output_type": "error",
     "traceback": [
      "\u001b[1;31mThe kernel failed to start as '/opt/homebrew/lib/python3.10/site-packages/psutil/_psutil_osx.cpython-310-darwin.so' could not be imported from '/opt/homebrew/lib/python3.10/site-packages/psutil/_psutil_osx.cpython-310-darwin.so, 0x0002'.\n",
      "Click <a href='https://aka.ms/kernelFailuresModuleImportErrFromFile'>here</a> for more info."
     ]
    }
   ],
   "source": [
    "from PIL import Image\n",
    "import os\n",
    "from pytesseract import pytesseract\n",
    "import math\n",
    "import pandas as pd\n",
    "\n",
    "pd.options.display.float_format = '{:,.2f}'.format"
   ]
  },
  {
   "cell_type": "code",
   "execution_count": 30,
   "id": "6cc6120c",
   "metadata": {},
   "outputs": [],
   "source": [
    "files = os.listdir(\"/Users/gaurav/Desktop/Coding/Split-Bill\")"
   ]
  },
  {
   "cell_type": "code",
   "execution_count": 31,
   "id": "4d8c2006",
   "metadata": {},
   "outputs": [],
   "source": [
    "#Open image with PIL\n",
    "img = Image.open(find_image_path(files))\n",
    "\n",
    "#Extract text from image\n",
    "text = pytesseract.image_to_string(img)"
   ]
  },
  {
   "cell_type": "code",
   "execution_count": 32,
   "id": "a962905f",
   "metadata": {},
   "outputs": [],
   "source": [
    "def find_image_path(files):\n",
    "    for file in files:\n",
    "        if file[-4:]==\"jpeg\":\n",
    "            image_path = file\n",
    "            \n",
    "    return image_path"
   ]
  },
  {
   "cell_type": "code",
   "execution_count": 33,
   "id": "bf484b5b",
   "metadata": {},
   "outputs": [],
   "source": [
    "#split the text into a list by line break\n",
    "def split_by_line(text):\n",
    "    content = []\n",
    "    ctr = 0\n",
    "    prev_pos = 0\n",
    "    for i in range(len(text)):\n",
    "        if text[i] == '\\n':\n",
    "            content.append(text[prev_pos+1:i])\n",
    "            ctr = ctr + 1\n",
    "            prev_pos = i\n",
    "    content = list(filter(None, content))\n",
    "    return content"
   ]
  },
  {
   "cell_type": "code",
   "execution_count": 34,
   "id": "b41a7db0",
   "metadata": {},
   "outputs": [],
   "source": [
    "text = split_by_line(text)"
   ]
  },
  {
   "cell_type": "code",
   "execution_count": 35,
   "id": "b86ad78f",
   "metadata": {},
   "outputs": [],
   "source": [
    "#Find Index that contains a string\n",
    "def find_index_of_string(text, string):\n",
    "    index = [i for i, s in enumerate(text) if string in s][0]\n",
    "    return index"
   ]
  },
  {
   "cell_type": "code",
   "execution_count": 36,
   "id": "3d5e81b2",
   "metadata": {},
   "outputs": [],
   "source": [
    "#get price from line on reciept\n",
    "def get_price(money):\n",
    "    money = float(money.split('$')[1])\n",
    "    return money"
   ]
  },
  {
   "cell_type": "code",
   "execution_count": 37,
   "id": "57f0e45d",
   "metadata": {},
   "outputs": [],
   "source": [
    "index_sub_total = find_index_of_string(text,'Subtotal')\n",
    "sub_total = get_price(text[index_sub_total])"
   ]
  },
  {
   "cell_type": "code",
   "execution_count": null,
   "id": "97f0a111",
   "metadata": {},
   "outputs": [
    {
     "ename": "",
     "evalue": "",
     "output_type": "error",
     "traceback": [
      "\u001b[1;31mThe kernel failed to start as '/opt/homebrew/lib/python3.10/site-packages/psutil/_psutil_osx.cpython-310-darwin.so' could not be imported from '/opt/homebrew/lib/python3.10/site-packages/psutil/_psutil_osx.cpython-310-darwin.so, 0x0002'.\n",
      "Click <a href='https://aka.ms/kernelFailuresModuleImportErrFromFile'>here</a> for more info."
     ]
    }
   ],
   "source": [
    "#find index of list where the items begin\n",
    "def find_start_of_items(text, index, sub_total):\n",
    "    total = []\n",
    "    for num in reversed(range(index)):\n",
    "        total.append(float(text[num].split('$')[1]))\n",
    "        if \"{:.2f}\".format((math.fsum(total))) == \"{:.2f}\".format(sub_total):\n",
    "            start = num\n",
    "            break\n",
    "    \n",
    "    return start"
   ]
  },
  {
   "cell_type": "code",
   "execution_count": 39,
   "id": "dd0c89d7",
   "metadata": {},
   "outputs": [],
   "source": [
    "start = find_start_of_items(text, index_sub_total, sub_total)\n",
    "\n",
    "# make main dishes into pandas dataframe\n",
    "def main_dishes_pandas (text, start,index_sub_total):\n",
    "    items = text[start:index_sub_total]\n",
    "    number_of_items = []\n",
    "    dish = []\n",
    "    cost = []\n",
    "    \n",
    "    for item in items:\n",
    "        number_of_items.append(item[0])\n",
    "        name = item.split('$')[0]\n",
    "        dish.append(name[1:])\n",
    "        cost.append(float(item.split('$')[1]))\n",
    "        \n",
    "    df = pd.DataFrame({'num':number_of_items,'dish': dish,'cost':cost})\n",
    "    return df"
   ]
  },
  {
   "cell_type": "code",
   "execution_count": 40,
   "id": "172b685f",
   "metadata": {},
   "outputs": [],
   "source": [
    "df =  main_dishes_pandas(text, start,index_sub_total)"
   ]
  },
  {
   "cell_type": "code",
   "execution_count": 41,
   "id": "5711074b",
   "metadata": {},
   "outputs": [],
   "source": [
    "def who_ordered_what(df):\n",
    "    names= []\n",
    "    for index, row in df.iterrows():\n",
    "        for num in row.num:\n",
    "            names.append(input('Who ordered' + row.dish))\n",
    "    df['name'] = names\n",
    "    \n",
    "    return df"
   ]
  },
  {
   "cell_type": "code",
   "execution_count": 45,
   "id": "5ff8ab5f",
   "metadata": {},
   "outputs": [
    {
     "name": "stdout",
     "output_type": "stream",
     "text": [
      "Who ordered %Chicken  adam\n",
      "Who ordered ¥%Chicken  gaurav\n",
      "Who ordered Chicken Caesar Wrap  adam\n",
      "Who ordered %Chicken  Kevin\n"
     ]
    },
    {
     "data": {
      "text/html": [
       "<div>\n",
       "<style scoped>\n",
       "    .dataframe tbody tr th:only-of-type {\n",
       "        vertical-align: middle;\n",
       "    }\n",
       "\n",
       "    .dataframe tbody tr th {\n",
       "        vertical-align: top;\n",
       "    }\n",
       "\n",
       "    .dataframe thead th {\n",
       "        text-align: right;\n",
       "    }\n",
       "</style>\n",
       "<table border=\"1\" class=\"dataframe\">\n",
       "  <thead>\n",
       "    <tr style=\"text-align: right;\">\n",
       "      <th></th>\n",
       "      <th>num</th>\n",
       "      <th>dish</th>\n",
       "      <th>cost</th>\n",
       "      <th>name</th>\n",
       "    </tr>\n",
       "  </thead>\n",
       "  <tbody>\n",
       "    <tr>\n",
       "      <th>0</th>\n",
       "      <td>1</td>\n",
       "      <td>%Chicken</td>\n",
       "      <td>20.32</td>\n",
       "      <td>adam</td>\n",
       "    </tr>\n",
       "    <tr>\n",
       "      <th>1</th>\n",
       "      <td>1</td>\n",
       "      <td>¥%Chicken</td>\n",
       "      <td>18.30</td>\n",
       "      <td>gaurav</td>\n",
       "    </tr>\n",
       "    <tr>\n",
       "      <th>2</th>\n",
       "      <td>1</td>\n",
       "      <td>Chicken Caesar Wrap</td>\n",
       "      <td>14.45</td>\n",
       "      <td>adam</td>\n",
       "    </tr>\n",
       "    <tr>\n",
       "      <th>3</th>\n",
       "      <td>1</td>\n",
       "      <td>%Chicken</td>\n",
       "      <td>22.92</td>\n",
       "      <td>Kevin</td>\n",
       "    </tr>\n",
       "  </tbody>\n",
       "</table>\n",
       "</div>"
      ],
      "text/plain": [
       "  num                   dish  cost    name\n",
       "0   1              %Chicken  20.32    adam\n",
       "1   1             ¥%Chicken  18.30  gaurav\n",
       "2   1   Chicken Caesar Wrap  14.45    adam\n",
       "3   1              %Chicken  22.92   Kevin"
      ]
     },
     "execution_count": 45,
     "metadata": {},
     "output_type": "execute_result"
    }
   ],
   "source": [
    "df = who_ordered_what(df)\n",
    "df"
   ]
  },
  {
   "cell_type": "code",
   "execution_count": 46,
   "id": "2db1181b",
   "metadata": {},
   "outputs": [],
   "source": [
    "def handling_duplicate_names(df):\n",
    "    df['total'] = df.groupby(['name'])['cost'].transform('sum')\n",
    "    df = df.drop_duplicates(subset='name')\n",
    "    df = df[['name','total']]\n",
    "    return df"
   ]
  },
  {
   "cell_type": "code",
   "execution_count": 47,
   "id": "8e1bcac4",
   "metadata": {},
   "outputs": [],
   "source": [
    "df = handling_duplicate_names(df)"
   ]
  },
  {
   "cell_type": "code",
   "execution_count": 54,
   "id": "2d0549c5",
   "metadata": {},
   "outputs": [],
   "source": [
    "def get_tax_total(text, sub_total):  \n",
    "    Total_index = find_index_of_string(text,'Total')\n",
    "    total = get_price(text[Total_index])\n",
    "    tax = total - sub_total\n",
    "    return tax"
   ]
  },
  {
   "cell_type": "code",
   "execution_count": 60,
   "id": "4c1b0bd0",
   "metadata": {},
   "outputs": [],
   "source": [
    "def format_receipt(df,tax): \n",
    "    taxes = list()\n",
    "    for index, row in df.iterrows():\n",
    "        percentage = (row.total/sum(df.total))\n",
    "        taxes.append(percentage*tax)\n",
    "    df[\"taxes\"] = taxes\n",
    "    df[\"amount to be paid\"] = (df[\"taxes\"] + df[\"total\"])\n",
    "    df = df.pivot_table(index='name',\n",
    "                   margins=True,\n",
    "                   margins_name='total',  # defaults to 'All'\n",
    "                   aggfunc=sum)\n",
    "    \n",
    "    return df"
   ]
  },
  {
   "cell_type": "code",
   "execution_count": 61,
   "id": "0b5b3431",
   "metadata": {},
   "outputs": [
    {
     "data": {
      "text/html": [
       "<div>\n",
       "<style scoped>\n",
       "    .dataframe tbody tr th:only-of-type {\n",
       "        vertical-align: middle;\n",
       "    }\n",
       "\n",
       "    .dataframe tbody tr th {\n",
       "        vertical-align: top;\n",
       "    }\n",
       "\n",
       "    .dataframe thead th {\n",
       "        text-align: right;\n",
       "    }\n",
       "</style>\n",
       "<table border=\"1\" class=\"dataframe\">\n",
       "  <thead>\n",
       "    <tr style=\"text-align: right;\">\n",
       "      <th></th>\n",
       "      <th>amount to be paid</th>\n",
       "      <th>taxes</th>\n",
       "      <th>total</th>\n",
       "    </tr>\n",
       "    <tr>\n",
       "      <th>name</th>\n",
       "      <th></th>\n",
       "      <th></th>\n",
       "      <th></th>\n",
       "    </tr>\n",
       "  </thead>\n",
       "  <tbody>\n",
       "    <tr>\n",
       "      <th>Kevin</th>\n",
       "      <td>19.36</td>\n",
       "      <td>-3.56</td>\n",
       "      <td>22.92</td>\n",
       "    </tr>\n",
       "    <tr>\n",
       "      <th>adam</th>\n",
       "      <td>29.37</td>\n",
       "      <td>-5.40</td>\n",
       "      <td>34.77</td>\n",
       "    </tr>\n",
       "    <tr>\n",
       "      <th>gaurav</th>\n",
       "      <td>15.46</td>\n",
       "      <td>-2.84</td>\n",
       "      <td>18.30</td>\n",
       "    </tr>\n",
       "    <tr>\n",
       "      <th>total</th>\n",
       "      <td>64.19</td>\n",
       "      <td>-11.80</td>\n",
       "      <td>75.99</td>\n",
       "    </tr>\n",
       "  </tbody>\n",
       "</table>\n",
       "</div>"
      ],
      "text/plain": [
       "        amount to be paid  taxes  total\n",
       "name                                   \n",
       "Kevin               19.36  -3.56  22.92\n",
       "adam                29.37  -5.40  34.77\n",
       "gaurav              15.46  -2.84  18.30\n",
       "total               64.19 -11.80  75.99"
      ]
     },
     "execution_count": 61,
     "metadata": {},
     "output_type": "execute_result"
    }
   ],
   "source": [
    "tax = get_tax_total(text,sub_total)\n",
    "df = format_receipt(df,tax)\n",
    "df"
   ]
  },
  {
   "cell_type": "code",
   "execution_count": null,
   "id": "6651f2ad",
   "metadata": {},
   "outputs": [],
   "source": []
  }
 ],
 "metadata": {
  "kernelspec": {
   "display_name": "Python 3.10.6 64-bit",
   "language": "python",
   "name": "python3"
  },
  "language_info": {
   "codemirror_mode": {
    "name": "ipython",
    "version": 3
   },
   "file_extension": ".py",
   "mimetype": "text/x-python",
   "name": "python",
   "nbconvert_exporter": "python",
   "pygments_lexer": "ipython3",
   "version": "3.10.6"
  },
  "vscode": {
   "interpreter": {
    "hash": "b0fa6594d8f4cbf19f97940f81e996739fb7646882a419484c72d19e05852a7e"
   }
  }
 },
 "nbformat": 4,
 "nbformat_minor": 5
}
